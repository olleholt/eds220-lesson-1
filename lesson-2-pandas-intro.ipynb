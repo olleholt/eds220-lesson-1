{
 "cells": [
  {
   "cell_type": "markdown",
   "id": "826f889f-0e4e-4708-af9d-751f5b973015",
   "metadata": {},
   "source": [
    "# Objectives\n",
    "\n",
    "Review core 'pandas' objects: 'pandas.Series' and 'pandas.DataFrame'\n",
    "\n",
    "#'pandas'\n",
    "- Python packages to wrangle and analyze tabular data\n",
    "- built on top of NumPy\n",
    "- core tool for data analysis in Python"
   ]
  },
  {
   "cell_type": "code",
   "execution_count": 5,
   "id": "9ec5e022-e9c2-407b-9479-eeedd3588ec6",
   "metadata": {
    "tags": []
   },
   "outputs": [],
   "source": [
    "#import pandas with standarf abbreviation\n",
    "import pandas as pd\n",
    "\n",
    "#import numpy too!\n",
    "import numpy as np"
   ]
  },
  {
   "cell_type": "markdown",
   "id": "95fa6095-a6a2-46c2-b6bd-5ebb9348961b",
   "metadata": {},
   "source": [
    "# Series\n",
    "\n",
    "A 'pandas.Series':\n",
    "\n",
    "- is one of the core data structues in 'pandas'\n",
    "- a 1-dimensional array of *indexed* data\n",
    "- will be the columns of the 'pandas.DataFrame'\n",
    "\n",
    "# Creating a pandas Series\n",
    "\n",
    "Several ways of creating a pandas Series.\n",
    "For now, we will create series using:\n",
    "\n",
    "```\n",
    "s = pd.Series(data, index = index)\n",
    "```\n",
    "\n",
    "- 'data' = numpy array (or a list of objects that can be converted to NumPy types)\n",
    "- 'index' = a list of indices of same length as data"
   ]
  },
  {
   "cell_type": "code",
   "execution_count": 7,
   "id": "15f8488e-5098-4d8c-a3ea-86cf2b14def9",
   "metadata": {
    "tags": []
   },
   "outputs": [
    {
     "data": {
      "text/plain": [
       "array([0, 1, 2])"
      ]
     },
     "execution_count": 7,
     "metadata": {},
     "output_type": "execute_result"
    }
   ],
   "source": [
    "#Ex: a pandas series from a numpy array\n",
    "\n",
    "#np.arange() function constructs an array of consecutive integers\n",
    "np.arange(3)"
   ]
  },
  {
   "cell_type": "code",
   "execution_count": 8,
   "id": "6d728e8f-28fc-476e-8931-307b9fc90e15",
   "metadata": {
    "tags": []
   },
   "outputs": [
    {
     "data": {
      "text/plain": [
       "a    0\n",
       "b    1\n",
       "c    2\n",
       "dtype: int64"
      ]
     },
     "execution_count": 8,
     "metadata": {},
     "output_type": "execute_result"
    }
   ],
   "source": [
    "# we can use this to create a pandas Series\n",
    "pd.Series(np.arange(3), index = ['a', 'b', 'c'])"
   ]
  },
  {
   "cell_type": "markdown",
   "id": "0b0fc355-6af0-4d87-a46e-b8c29ec031fe",
   "metadata": {},
   "source": [
    "What kind of parameter is 'index'?\n",
    "\n",
    "Ans: an optional parameter, there is a default value to it.\n",
    "\n",
    "If we don't specify 'index', the default is to start the index from 0.\n",
    "\n",
    "Example:"
   ]
  },
  {
   "cell_type": "markdown",
   "id": "ff25e8a2-4c46-4ad3-8311-dac2176cbe11",
   "metadata": {},
   "source": [
    "# Operations of series\n",
    "\n",
    "Arithmetic operations work on series on most NumPy functions:"
   ]
  },
  {
   "cell_type": "code",
   "execution_count": 14,
   "id": "d33ba296-dbf8-4ea3-a602-a21110ed24e0",
   "metadata": {
    "tags": []
   },
   "outputs": [
    {
     "data": {
      "text/plain": [
       "0    eds220\n",
       "1    eds222\n",
       "2    eds223\n",
       "3    eds242\n",
       "dtype: object"
      ]
     },
     "execution_count": 14,
     "metadata": {},
     "output_type": "execute_result"
    }
   ],
   "source": [
    "#create a series from a list of strings with default index\n",
    "pd.Series(['eds220','eds222','eds223','eds242'])"
   ]
  },
  {
   "cell_type": "code",
   "execution_count": 13,
   "id": "1c39bcaa-7bea-42be-add5-b28aca57a213",
   "metadata": {
    "tags": []
   },
   "outputs": [
    {
     "name": "stdout",
     "output_type": "stream",
     "text": [
      "Andrea      9.8\n",
      "beth        7.3\n",
      "Carolina    6.5\n",
      "dtype: float64\n"
     ]
    }
   ],
   "source": [
    "s = pd.Series( [98, 73, 65], index = ['Andrea', 'beth', 'Carolina'])\n",
    "\n",
    "#divide each element in the series by 10:\n",
    "print(s/10)"
   ]
  },
  {
   "cell_type": "markdown",
   "id": "3e019cf5-9874-4ef0-96de-22bf3ce0b3a3",
   "metadata": {
    "tags": []
   },
   "source": [
    "Example: create a new series with 'True/False' values indicating whether the elements in the series satisfy a condition or not."
   ]
  },
  {
   "cell_type": "code",
   "execution_count": 17,
   "id": "8e1bafb0-b5ec-4c01-89cb-b882f645c04b",
   "metadata": {
    "tags": []
   },
   "outputs": [
    {
     "data": {
      "text/plain": [
       "Andrea       True\n",
       "beth         True\n",
       "Carolina    False\n",
       "dtype: bool"
      ]
     },
     "execution_count": 17,
     "metadata": {},
     "output_type": "execute_result"
    }
   ],
   "source": [
    "s>70"
   ]
  },
  {
   "cell_type": "markdown",
   "id": "979dc138-dfe8-4d2d-999d-c4698663ea4f",
   "metadata": {},
   "source": [
    "This is simple -- but important!! Using conditions on Series is key to select data from dataframes."
   ]
  },
  {
   "cell_type": "markdown",
   "id": "deb6a9aa-242e-4be1-9a35-a3193d99843b",
   "metadata": {},
   "source": [
    "## Attributes & Methods\n",
    "\n",
    "Two examples about identifying missing values.\n",
    "\n",
    "- missing values in 'pandas' are represented by 'np.NaN' = not a number\n",
    "- 'NaN' is a type of float in numpy"
   ]
  },
  {
   "cell_type": "code",
   "execution_count": 19,
   "id": "f461417a-eaa6-4a1d-9d3a-c5ee6758ebc2",
   "metadata": {
    "tags": []
   },
   "outputs": [
    {
     "data": {
      "text/plain": [
       "nan"
      ]
     },
     "execution_count": 19,
     "metadata": {},
     "output_type": "execute_result"
    }
   ],
   "source": [
    "np.NaN"
   ]
  },
  {
   "cell_type": "code",
   "execution_count": 20,
   "id": "decd8616-0d5f-4510-9f6a-1595b1fa1bd6",
   "metadata": {
    "tags": []
   },
   "outputs": [
    {
     "data": {
      "text/plain": [
       "float"
      ]
     },
     "execution_count": 20,
     "metadata": {},
     "output_type": "execute_result"
    }
   ],
   "source": [
    "type(np.NaN)"
   ]
  },
  {
   "cell_type": "code",
   "execution_count": 22,
   "id": "c359901c-051d-4def-9493-af9c123e5cad",
   "metadata": {
    "tags": []
   },
   "outputs": [
    {
     "data": {
      "text/plain": [
       "0    1.0\n",
       "1    2.0\n",
       "2    NaN\n",
       "3    4.0\n",
       "4    NaN\n",
       "dtype: float64"
      ]
     },
     "execution_count": 22,
     "metadata": {},
     "output_type": "execute_result"
    }
   ],
   "source": [
    "# series with NAs in it:\n",
    "s = pd.Series( [1, 2, np.NaN, 4, np.NaN] )\n",
    "s"
   ]
  },
  {
   "cell_type": "markdown",
   "id": "fcf7bf0f-d829-4a3f-9171-bae32cc4d2a4",
   "metadata": {},
   "source": [
    "'hasnans' = attribute of pandas series, returns 'True' of there are any NAs"
   ]
  },
  {
   "cell_type": "code",
   "execution_count": 23,
   "id": "35fe8223-56fd-49d9-a913-b66bb6c88057",
   "metadata": {
    "tags": []
   },
   "outputs": [
    {
     "data": {
      "text/plain": [
       "True"
      ]
     },
     "execution_count": 23,
     "metadata": {},
     "output_type": "execute_result"
    }
   ],
   "source": [
    "#check if series has NAs\n",
    "s.hasnans"
   ]
  },
  {
   "cell_type": "markdown",
   "id": "151c4b4b-e856-4e54-bd1c-bbf03bf3260e",
   "metadata": {},
   "source": [
    "isna() = a method of series, returns a seriesindicating which elements are NAs:"
   ]
  },
  {
   "cell_type": "code",
   "execution_count": 24,
   "id": "a810c624-bfce-4838-a4c4-7790281f9271",
   "metadata": {
    "tags": []
   },
   "outputs": [
    {
     "data": {
      "text/plain": [
       "0    False\n",
       "1    False\n",
       "2     True\n",
       "3    False\n",
       "4     True\n",
       "dtype: bool"
      ]
     },
     "execution_count": 24,
     "metadata": {},
     "output_type": "execute_result"
    }
   ],
   "source": [
    "s.isna()"
   ]
  },
  {
   "cell_type": "code",
   "execution_count": null,
   "id": "1d476913-1847-4972-9000-96b45831a00e",
   "metadata": {},
   "outputs": [],
   "source": []
  },
  {
   "cell_type": "markdown",
   "id": "eca63284-1db2-4abb-85d9-3bb102bc36e8",
   "metadata": {},
   "source": [
    "'bool': means 'True' or 'False' are **boolean values**\n",
    "\n",
    "#Dataframes\n",
    "\n",
    "'pandas.DataFrame' :\n",
    "\n",
    "- most used object in 'pandas'\n",
    "- represents tabular data (think of a spreadsheet)\n",
    "- each column is a 'pandas.Series'\n",
    "\n",
    "# Creating a 'pandas.DataFrame'\n",
    "\n",
    "*Many ways of creating a dataframe*. Let's see one.\n",
    "\n",
    "Remember dictionaries? They are sets of key-value pairs:\n",
    "```\n",
    "{key1: value1,\n",
    "key2: value2\n",
    "}\n",
    "```\n",
    "\n",
    "Think of a 'pd.DataFrame' as a dictionary where:\n",
    "\n",
    "- keys = column names\n",
    "- values = column values\n",
    "\n",
    "We can create a dataframe like this:"
   ]
  },
  {
   "cell_type": "code",
   "execution_count": 31,
   "id": "f4afc79f-1ec2-48e1-8cf8-d91265a384c9",
   "metadata": {
    "collapsed": true,
    "jupyter": {
     "outputs_hidden": true
    },
    "tags": []
   },
   "outputs": [
    {
     "data": {
      "text/plain": [
       "{'col_name_1': array([0, 1, 2]), 'col_name_2': [3.1, 3.2, 3.3]}"
      ]
     },
     "execution_count": 31,
     "metadata": {},
     "output_type": "execute_result"
    }
   ],
   "source": [
    "#initialize dictionary with columns data\n",
    "d = {'col_name_1' : np.arange(3),\n",
    "     'col_name_2': [3.1, 3.2, 3.3]\n",
    "    }\n",
    "d"
   ]
  },
  {
   "cell_type": "code",
   "execution_count": 34,
   "id": "60e6fa44-d8d4-48ac-a5a4-bec27c4f99f3",
   "metadata": {
    "collapsed": true,
    "jupyter": {
     "outputs_hidden": true
    },
    "tags": []
   },
   "outputs": [
    {
     "data": {
      "text/html": [
       "<div>\n",
       "<style scoped>\n",
       "    .dataframe tbody tr th:only-of-type {\n",
       "        vertical-align: middle;\n",
       "    }\n",
       "\n",
       "    .dataframe tbody tr th {\n",
       "        vertical-align: top;\n",
       "    }\n",
       "\n",
       "    .dataframe thead th {\n",
       "        text-align: right;\n",
       "    }\n",
       "</style>\n",
       "<table border=\"1\" class=\"dataframe\">\n",
       "  <thead>\n",
       "    <tr style=\"text-align: right;\">\n",
       "      <th></th>\n",
       "      <th>col_name_1</th>\n",
       "      <th>col_name_2</th>\n",
       "    </tr>\n",
       "  </thead>\n",
       "  <tbody>\n",
       "    <tr>\n",
       "      <th>0</th>\n",
       "      <td>0</td>\n",
       "      <td>3.1</td>\n",
       "    </tr>\n",
       "    <tr>\n",
       "      <th>1</th>\n",
       "      <td>1</td>\n",
       "      <td>3.2</td>\n",
       "    </tr>\n",
       "    <tr>\n",
       "      <th>2</th>\n",
       "      <td>2</td>\n",
       "      <td>3.3</td>\n",
       "    </tr>\n",
       "  </tbody>\n",
       "</table>\n",
       "</div>"
      ],
      "text/plain": [
       "   col_name_1  col_name_2\n",
       "0           0         3.1\n",
       "1           1         3.2\n",
       "2           2         3.3"
      ]
     },
     "execution_count": 34,
     "metadata": {},
     "output_type": "execute_result"
    }
   ],
   "source": [
    "# create a data frame\n",
    "df = pd.DataFrame(d)\n",
    "\n",
    "df"
   ]
  },
  {
   "cell_type": "markdown",
   "id": "49e0f46b-42d8-4517-b7e6-a9f3ce66ae11",
   "metadata": {},
   "source": [
    "# In-place operations\n",
    "Let's rename the data frame's columns.\n",
    "We can use a dataframe *method* called 'rename'.\n",
    "'rename' takes in as an input a dictionary:\n",
    "\n",
    "```\n",
    "{   'col_1_old_name' : 'col_1_new_name',\n",
    "    'col_2_old_name' : 'col_2_new_name'\n",
    "}\n",
    "```"
   ]
  },
  {
   "cell_type": "code",
   "execution_count": 38,
   "id": "5ddd4a38-e223-4a25-ae0a-c1cbb4ae610d",
   "metadata": {
    "tags": []
   },
   "outputs": [
    {
     "data": {
      "text/html": [
       "<div>\n",
       "<style scoped>\n",
       "    .dataframe tbody tr th:only-of-type {\n",
       "        vertical-align: middle;\n",
       "    }\n",
       "\n",
       "    .dataframe tbody tr th {\n",
       "        vertical-align: top;\n",
       "    }\n",
       "\n",
       "    .dataframe thead th {\n",
       "        text-align: right;\n",
       "    }\n",
       "</style>\n",
       "<table border=\"1\" class=\"dataframe\">\n",
       "  <thead>\n",
       "    <tr style=\"text-align: right;\">\n",
       "      <th></th>\n",
       "      <th>col_1</th>\n",
       "      <th>col_2</th>\n",
       "    </tr>\n",
       "  </thead>\n",
       "  <tbody>\n",
       "    <tr>\n",
       "      <th>0</th>\n",
       "      <td>0</td>\n",
       "      <td>3.1</td>\n",
       "    </tr>\n",
       "    <tr>\n",
       "      <th>1</th>\n",
       "      <td>1</td>\n",
       "      <td>3.2</td>\n",
       "    </tr>\n",
       "    <tr>\n",
       "      <th>2</th>\n",
       "      <td>2</td>\n",
       "      <td>3.3</td>\n",
       "    </tr>\n",
       "  </tbody>\n",
       "</table>\n",
       "</div>"
      ],
      "text/plain": [
       "   col_1  col_2\n",
       "0      0    3.1\n",
       "1      1    3.2\n",
       "2      2    3.3"
      ]
     },
     "execution_count": 38,
     "metadata": {},
     "output_type": "execute_result"
    }
   ],
   "source": [
    "# define new columsn names\n",
    "col_names = {   'col_name_1' : 'col_1',\n",
    "                'col_name_2' : 'col_2'\n",
    "}\n",
    "\n",
    "df.rename(columns = col_names)"
   ]
  },
  {
   "cell_type": "code",
   "execution_count": 39,
   "id": "438b9774-6eee-4fa1-ba55-1e7a4b4273b5",
   "metadata": {
    "collapsed": true,
    "jupyter": {
     "outputs_hidden": true
    },
    "tags": []
   },
   "outputs": [
    {
     "data": {
      "text/html": [
       "<div>\n",
       "<style scoped>\n",
       "    .dataframe tbody tr th:only-of-type {\n",
       "        vertical-align: middle;\n",
       "    }\n",
       "\n",
       "    .dataframe tbody tr th {\n",
       "        vertical-align: top;\n",
       "    }\n",
       "\n",
       "    .dataframe thead th {\n",
       "        text-align: right;\n",
       "    }\n",
       "</style>\n",
       "<table border=\"1\" class=\"dataframe\">\n",
       "  <thead>\n",
       "    <tr style=\"text-align: right;\">\n",
       "      <th></th>\n",
       "      <th>col_name_1</th>\n",
       "      <th>col_name_2</th>\n",
       "    </tr>\n",
       "  </thead>\n",
       "  <tbody>\n",
       "    <tr>\n",
       "      <th>0</th>\n",
       "      <td>0</td>\n",
       "      <td>3.1</td>\n",
       "    </tr>\n",
       "    <tr>\n",
       "      <th>1</th>\n",
       "      <td>1</td>\n",
       "      <td>3.2</td>\n",
       "    </tr>\n",
       "    <tr>\n",
       "      <th>2</th>\n",
       "      <td>2</td>\n",
       "      <td>3.3</td>\n",
       "    </tr>\n",
       "  </tbody>\n",
       "</table>\n",
       "</div>"
      ],
      "text/plain": [
       "   col_name_1  col_name_2\n",
       "0           0         3.1\n",
       "1           1         3.2\n",
       "2           2         3.3"
      ]
     },
     "execution_count": 39,
     "metadata": {},
     "output_type": "execute_result"
    }
   ],
   "source": [
    "#take a look at our dataframe\n",
    "df"
   ]
  },
  {
   "cell_type": "markdown",
   "id": "7de0ce2d-6e50-4b5b-af3b-1585f43d4398",
   "metadata": {},
   "source": [
    "Nothing changed!\n",
    "'df.rename()' doesn't change the column names in place, meaning it doesn't modify the object itself. Instead, it created a new object as an output.\n",
    "\n",
    "Assign output back to dataframe to actually change it:"
   ]
  },
  {
   "cell_type": "code",
   "execution_count": 40,
   "id": "40599905-626b-4a0e-b7ca-e7c2ee12401f",
   "metadata": {
    "tags": []
   },
   "outputs": [
    {
     "data": {
      "text/html": [
       "<div>\n",
       "<style scoped>\n",
       "    .dataframe tbody tr th:only-of-type {\n",
       "        vertical-align: middle;\n",
       "    }\n",
       "\n",
       "    .dataframe tbody tr th {\n",
       "        vertical-align: top;\n",
       "    }\n",
       "\n",
       "    .dataframe thead th {\n",
       "        text-align: right;\n",
       "    }\n",
       "</style>\n",
       "<table border=\"1\" class=\"dataframe\">\n",
       "  <thead>\n",
       "    <tr style=\"text-align: right;\">\n",
       "      <th></th>\n",
       "      <th>col_1</th>\n",
       "      <th>col_2</th>\n",
       "    </tr>\n",
       "  </thead>\n",
       "  <tbody>\n",
       "    <tr>\n",
       "      <th>0</th>\n",
       "      <td>0</td>\n",
       "      <td>3.1</td>\n",
       "    </tr>\n",
       "    <tr>\n",
       "      <th>1</th>\n",
       "      <td>1</td>\n",
       "      <td>3.2</td>\n",
       "    </tr>\n",
       "    <tr>\n",
       "      <th>2</th>\n",
       "      <td>2</td>\n",
       "      <td>3.3</td>\n",
       "    </tr>\n",
       "  </tbody>\n",
       "</table>\n",
       "</div>"
      ],
      "text/plain": [
       "   col_1  col_2\n",
       "0      0    3.1\n",
       "1      1    3.2\n",
       "2      2    3.3"
      ]
     },
     "execution_count": 40,
     "metadata": {},
     "output_type": "execute_result"
    }
   ],
   "source": [
    "df = df.rename(columns = col_names)\n",
    "\n",
    "df"
   ]
  }
 ],
 "metadata": {
  "kernelspec": {
   "display_name": "Anaconda 3 (Base)",
   "language": "python",
   "name": "base"
  },
  "language_info": {
   "codemirror_mode": {
    "name": "ipython",
    "version": 3
   },
   "file_extension": ".py",
   "mimetype": "text/x-python",
   "name": "python",
   "nbconvert_exporter": "python",
   "pygments_lexer": "ipython3",
   "version": "3.9.13"
  }
 },
 "nbformat": 4,
 "nbformat_minor": 5
}
