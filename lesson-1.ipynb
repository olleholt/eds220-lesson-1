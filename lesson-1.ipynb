{
 "cells": [
  {
   "cell_type": "markdown",
   "id": "099c5727-fc04-4cfd-a1ab-4acbef0badc2",
   "metadata": {},
   "source": [
    "# 'numpy\n",
    "\n",
    "- one of the core packages for numerical computing in python\n",
    "- many packages are built on top of numpy\n",
    "- 'numpy' has been optimized for processing: faster due to memory access"
   ]
  },
  {
   "cell_type": "code",
   "execution_count": 8,
   "id": "054920e6-5a82-42fb-a14c-c981eddde61d",
   "metadata": {
    "tags": []
   },
   "outputs": [],
   "source": [
    "# import numpy with standard abbreviation\n",
    "import numpy as np\n"
   ]
  },
  {
   "cell_type": "markdown",
   "id": "1f74e729-a64b-4085-9e79-078db1467f05",
   "metadata": {},
   "source": [
    "# Variables\n",
    "We can think about variables as a name we assign to a particular object in Python.\n",
    "For example:\n"
   ]
  },
  {
   "cell_type": "code",
   "execution_count": 9,
   "id": "f85904d6-eb03-4c85-8d86-b2b7d93675cc",
   "metadata": {
    "tags": []
   },
   "outputs": [],
   "source": [
    "#assign a small array to a variable a\n",
    "a = np.array(  [ [1,1,2], [3,5,8] ]  )"
   ]
  },
  {
   "cell_type": "markdown",
   "id": "5447c530-5657-4771-8bc2-f1de6849bea6",
   "metadata": {
    "tags": []
   },
   "source": [
    "When we run the cell, we store the variable and its value. We can see the variables value in two ways:"
   ]
  },
  {
   "cell_type": "code",
   "execution_count": 11,
   "id": "7bc7888a-f19a-430c-92d2-bc19cd8d0644",
   "metadata": {
    "tags": []
   },
   "outputs": [
    {
     "data": {
      "text/plain": [
       "array([[1, 1, 2],\n",
       "       [3, 5, 8]])"
      ]
     },
     "execution_count": 11,
     "metadata": {},
     "output_type": "execute_result"
    }
   ],
   "source": [
    "a"
   ]
  },
  {
   "cell_type": "code",
   "execution_count": 12,
   "id": "22ba93b9-0efb-4125-9503-81cc68647502",
   "metadata": {
    "tags": []
   },
   "outputs": [
    {
     "name": "stdout",
     "output_type": "stream",
     "text": [
      "[[1 1 2]\n",
      " [3 5 8]]\n"
     ]
    }
   ],
   "source": [
    "print(a)"
   ]
  },
  {
   "cell_type": "markdown",
   "id": "8b9d1e49-7b14-4897-b4e6-16885a141d41",
   "metadata": {},
   "source": [
    "## naming variables\n",
    "in the class we are going to use 'snake_case' for naming variables\n",
    "\n",
    "# Variables and objects\n",
    "\n",
    "**object**: often encountered in python documentation and tutorials.\n",
    "\n",
    "object is a bundle of properties and actions about something specific\n",
    "\n",
    "Example:\n",
    "\n",
    "-object: data frame\n",
    "-properties: number of rows, names of columns, data created\n",
    "-actions: selecting a row, adding a column\n",
    "\n",
    "A variable is a name we give a specific objectm and the same object can be referenced by different variables.\n",
    "\n",
    "Example:\n",
    "\n",
    "- The Sun (actual star at the center of the solar system) = object\n",
    "- sol = Spanish word for Sun = variable\n",
    "- soleil = French word for Sun = another variable\n",
    "\n",
    "In practice: we will use object and variable interchangeably"
   ]
  },
  {
   "cell_type": "markdown",
   "id": "3a73931e-dbdf-4cdc-b700-dd731ab0b19c",
   "metadata": {},
   "source": [
    "# Types\n",
    "\n",
    "Each object in Python has a type.\n",
    "\n",
    "type = what kind of object it is\n",
    "We can also call the type of the object, the **class** of the object.\n",
    "We can see the type/class of an object by usinng the type function:"
   ]
  },
  {
   "cell_type": "code",
   "execution_count": 13,
   "id": "b92b560b-df5b-4a43-b338-bed1b8b50319",
   "metadata": {
    "tags": []
   },
   "outputs": [
    {
     "name": "stdout",
     "output_type": "stream",
     "text": [
      "[[1 1 2]\n",
      " [3 5 8]]\n"
     ]
    },
    {
     "data": {
      "text/plain": [
       "numpy.ndarray"
      ]
     },
     "execution_count": 13,
     "metadata": {},
     "output_type": "execute_result"
    }
   ],
   "source": [
    "print(a)\n",
    "type(a)"
   ]
  },
  {
   "cell_type": "markdown",
   "id": "176fb715-f1cf-4183-8ab4-f844dcead6bd",
   "metadata": {},
   "source": [
    "The 'numpy.ndarray' is the core object/data type in the NumPy package. We can check the type of an entry in the array by indexing:"
   ]
  },
  {
   "cell_type": "code",
   "execution_count": 15,
   "id": "609c0c8f-b707-4959-8647-1167a64d9d93",
   "metadata": {
    "tags": []
   },
   "outputs": [
    {
     "name": "stdout",
     "output_type": "stream",
     "text": [
      "1\n"
     ]
    },
    {
     "data": {
      "text/plain": [
       "numpy.int64"
      ]
     },
     "execution_count": 15,
     "metadata": {},
     "output_type": "execute_result"
    }
   ],
   "source": [
    "print(a[0,0])\n",
    "type(a[0,0])"
   ]
  },
  {
   "cell_type": "code",
   "execution_count": 16,
   "id": "97245c5e-af86-446e-b1f8-5a9a3c6a4f0a",
   "metadata": {
    "tags": []
   },
   "outputs": [
    {
     "name": "stdout",
     "output_type": "stream",
     "text": [
      "5\n"
     ]
    },
    {
     "data": {
      "text/plain": [
       "numpy.int64"
      ]
     },
     "execution_count": 16,
     "metadata": {},
     "output_type": "execute_result"
    }
   ],
   "source": [
    "# how would you acces the value 5 in the array a?\n",
    "\n",
    "print(a[1,1])\n",
    "type(a[1,1])"
   ]
  },
  {
   "cell_type": "markdown",
   "id": "a11c9bd7-e667-4c99-ac52-ee47e16797f4",
   "metadata": {},
   "source": [
    "# Functions\n",
    "\n",
    "'print' was our first example of a python function! :]\n",
    "\n",
    "A function:\n",
    "- take in a set of **arguments**, separated by commas, and\n",
    "- use those arguments to produce an **output**\n",
    "\n",
    "argument = parameter : you might see argument more often in the documentation\n",
    "\n",
    "We can ask information about a function by executing ? followed by the function name:"
   ]
  },
  {
   "cell_type": "code",
   "execution_count": 17,
   "id": "af234747-93a4-4b0f-afbf-37e6828a1170",
   "metadata": {
    "tags": []
   },
   "outputs": [
    {
     "data": {
      "text/plain": [
       "\u001b[0;31mDocstring:\u001b[0m\n",
       "print(value, ..., sep=' ', end='\\n', file=sys.stdout, flush=False)\n",
       "\n",
       "Prints the values to a stream, or to sys.stdout by default.\n",
       "Optional keyword arguments:\n",
       "file:  a file-like object (stream); defaults to the current sys.stdout.\n",
       "sep:   string inserted between values, default a space.\n",
       "end:   string appended after the last value, default a newline.\n",
       "flush: whether to forcibly flush the stream.\n",
       "\u001b[0;31mType:\u001b[0m      builtin_function_or_method\n"
      ]
     },
     "metadata": {},
     "output_type": "display_data"
    }
   ],
   "source": [
    "?print"
   ]
  },
  {
   "cell_type": "markdown",
   "id": "da4c40eb-5ddb-42dc-bf8d-f92274290f8b",
   "metadata": {},
   "source": [
    "- first line: function showing all of its arguments in paranthesis\n",
    "- then a short description of what the function does\n",
    "- finally, a list of arguments and a brief explanation of each of them.\n",
    "\n",
    "Different types of arguments inside the paranthesis. Roughly speaking, there are two types of arguments:\n",
    "\n",
    "- **non-optional arguments**: arguments you need to specify for the function to do something\n",
    "- **optional arguments**: arguments that are pre-filled with a default value by the function, but we can override them. Optional argumentsappear inside the paranthesis () in the form\n",
    "\n",
    "'optional argument = default value'"
   ]
  },
  {
   "cell_type": "code",
   "execution_count": 19,
   "id": "9aa2daea-0df9-4dc4-ba4d-360ec6c5aa7e",
   "metadata": {
    "tags": []
   },
   "outputs": [
    {
     "name": "stdout",
     "output_type": "stream",
     "text": [
      "changing the default end argument of the print function:]"
     ]
    }
   ],
   "source": [
    "print('changing the default end argument of the print function', end = \":]\")"
   ]
  },
  {
   "cell_type": "code",
   "execution_count": 20,
   "id": "fb444c38-c40c-47df-b295-68eea6b01ef8",
   "metadata": {
    "tags": []
   },
   "outputs": [
    {
     "name": "stdout",
     "output_type": "stream",
     "text": [
      "changing the default end argument of the print function\n"
     ]
    }
   ],
   "source": [
    "print('changing the default end argument of the print function')"
   ]
  },
  {
   "cell_type": "markdown",
   "id": "011154c7-c726-487a-907f-4c73926006b6",
   "metadata": {},
   "source": [
    "# Attributes and methods (week 1 lesson 2)\n",
    "\n",
    "An object in Python has attributes and methods\n",
    "\n",
    "- **attribute**:a property of an object, a piece of information about it.\n",
    "- **method**: a procedure associated with an object, an action where the main ingredient is the object itself.\n",
    "\n",
    "Access a variables attributes and methods by adding a period '.' at the end of the variables name\n",
    "\n",
    "'variable.variable_method()' or\n",
    "\n",
    "'variable.variable_attribute()'\n",
    "\n",
    "Examples:\n",
    "\n",
    "Methods and attributes of numpy arrays:"
   ]
  },
  {
   "cell_type": "code",
   "execution_count": 1,
   "id": "45566a1d-2f5f-48fa-a966-ca647ba76149",
   "metadata": {
    "tags": []
   },
   "outputs": [],
   "source": [
    "import numpy as np"
   ]
  },
  {
   "cell_type": "code",
   "execution_count": 3,
   "id": "cedcde78-4d93-425f-92f6-da7ff492f68e",
   "metadata": {
    "tags": []
   },
   "outputs": [
    {
     "data": {
      "text/plain": [
       "array([[1, 2, 3],\n",
       "       [4, 5, 6],\n",
       "       [7, 8, 9]])"
      ]
     },
     "execution_count": 3,
     "metadata": {},
     "output_type": "execute_result"
    }
   ],
   "source": [
    "#define a 3x3 array\n",
    "var = np.array( [ [1,2,3] , [4,5,6] , [7,8,9] ])\n",
    "var"
   ]
  },
  {
   "cell_type": "code",
   "execution_count": 4,
   "id": "a2ed338b-919e-4631-8685-026b7125a998",
   "metadata": {
    "tags": []
   },
   "outputs": [
    {
     "data": {
      "text/plain": [
       "(3, 3)"
      ]
     },
     "execution_count": 4,
     "metadata": {},
     "output_type": "execute_result"
    }
   ],
   "source": [
    "# shape : attribute telling us the number of elements in each dimension of the array\n",
    "\n",
    "var.shape"
   ]
  },
  {
   "cell_type": "code",
   "execution_count": 5,
   "id": "78caf6be-4c4c-4f8e-8054-cddf3a5921da",
   "metadata": {
    "tags": []
   },
   "outputs": [
    {
     "data": {
      "text/plain": [
       "tuple"
      ]
     },
     "execution_count": 5,
     "metadata": {},
     "output_type": "execute_result"
    }
   ],
   "source": [
    "type(var.shape)"
   ]
  },
  {
   "cell_type": "code",
   "execution_count": 6,
   "id": "2b2ed88d-cd6d-4fe5-afc8-0b9dfe90f5f2",
   "metadata": {
    "tags": []
   },
   "outputs": [
    {
     "data": {
      "text/plain": [
       "2"
      ]
     },
     "execution_count": 6,
     "metadata": {},
     "output_type": "execute_result"
    }
   ],
   "source": [
    "# ndim is an attribute holding the number of array dimensions\n",
    "var.ndim"
   ]
  },
  {
   "cell_type": "code",
   "execution_count": 7,
   "id": "6e5a1a49-1832-4d56-9a18-fc60cfe65851",
   "metadata": {
    "tags": []
   },
   "outputs": [
    {
     "data": {
      "text/plain": [
       "int"
      ]
     },
     "execution_count": 7,
     "metadata": {},
     "output_type": "execute_result"
    }
   ],
   "source": [
    "type(var.ndim)"
   ]
  },
  {
   "cell_type": "markdown",
   "id": "6a26fb2f-4a1c-47ad-a02b-edf654d3d881",
   "metadata": {},
   "source": [
    "- Notice attributes can have many different data types.\n",
    "\n",
    "Examples of methods:"
   ]
  },
  {
   "cell_type": "code",
   "execution_count": 8,
   "id": "97c9f4cf-35b9-458b-97fc-b9dcc29b8bf8",
   "metadata": {
    "tags": []
   },
   "outputs": [
    {
     "data": {
      "text/plain": [
       "1"
      ]
     },
     "execution_count": 8,
     "metadata": {},
     "output_type": "execute_result"
    }
   ],
   "source": [
    "#min method for array\n",
    "#return the minimum value in the array\n",
    "var.min()"
   ]
  },
  {
   "cell_type": "code",
   "execution_count": 9,
   "id": "25ea07fd-ca06-4285-89df-3193fa21a46a",
   "metadata": {
    "tags": []
   },
   "outputs": [
    {
     "data": {
      "text/plain": [
       "builtin_function_or_method"
      ]
     },
     "execution_count": 9,
     "metadata": {},
     "output_type": "execute_result"
    }
   ],
   "source": [
    "type(var.min)"
   ]
  },
  {
   "cell_type": "markdown",
   "id": "dce69fa1-4e7e-44c5-8419-8f3351633d80",
   "metadata": {},
   "source": [
    "# R & Python\n",
    "R:\n",
    "- doesn't use methods within an object\n",
    "- functions in R are extrinsic to (outside) the objects they are acting on\n",
    "\n",
    "Example : recreate getting the min value in an array\n",
    "\n",
    "In R there would be two separate items: the variable 'var' and a *separate* function 'min' that gets 'var' as a parameter:\n",
    "\n",
    "```\n",
    "#this is R code\n",
    "var <- array(c(1,4,7,2,5,8,3,6,9), dim = c(3,3))\n",
    "min(var)\n",
    "```\n",
    "\n",
    "Using the pipe operator >%> in R's tidyverse is closer to the '.' in Python:\n",
    "\n",
    "```\n",
    "var <- array(c(1,4,7,2,5,8,3,6,9), dim = c(3,3))\n",
    "var >%> min()\n",
    "```\n",
    "\n",
    "What is happening ?\n",
    "the pip '>%>' is passing 'var' to the 'min()' function as its first argument. This is essentially what the '.' does in Python:\n",
    "\n",
    "```\n",
    "var = np.array( [ [1,2,3] , [4,5,6] , [7,8,9] ])\n",
    "var.min()\n",
    "```"
   ]
  }
 ],
 "metadata": {
  "kernelspec": {
   "display_name": "Anaconda 3 (Base)",
   "language": "python",
   "name": "base"
  },
  "language_info": {
   "codemirror_mode": {
    "name": "ipython",
    "version": 3
   },
   "file_extension": ".py",
   "mimetype": "text/x-python",
   "name": "python",
   "nbconvert_exporter": "python",
   "pygments_lexer": "ipython3",
   "version": "3.9.13"
  }
 },
 "nbformat": 4,
 "nbformat_minor": 5
}
